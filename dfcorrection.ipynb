{
 "cells": [
  {
   "cell_type": "markdown",
   "metadata": {},
   "source": [
    "# Tratamento dos Dados Coletados\n",
    "\n",
    "O tratamento dos dados foi feito por meio das bibliotecas **Pandas** e **Unicode**, que foram utilizadas respectivamente para manipulação de Datasets e unificação de strings"
   ]
  },
  {
   "cell_type": "code",
   "execution_count": 9,
   "metadata": {},
   "outputs": [
    {
     "name": "stderr",
     "output_type": "stream",
     "text": [
      "C:\\Users\\guide\\AppData\\Local\\Temp\\ipykernel_10344\\505288178.py:5: FutureWarning: Passing a negative integer is deprecated in version 1.0 and will not be supported in future version. Instead, use None to not limit the column width.\n",
      "  pd.set_option('max_colwidth', -1)\n"
     ]
    }
   ],
   "source": [
    "import pandas as pd\n",
    "from unidecode import unidecode\n",
    "import numpy as np\n",
    "pd.set_option('display.expand_frame_repr', False)\n",
    "pd.set_option('max_colwidth', -1)"
   ]
  },
  {
   "cell_type": "markdown",
   "metadata": {},
   "source": [
    "Primeiramente é lido o Dataset criado anteriormente, e então agrupado por titulos, para que seja criado um ID único para cada vídeo."
   ]
  },
  {
   "cell_type": "code",
   "execution_count": 10,
   "metadata": {},
   "outputs": [],
   "source": [
    "df = pd.read_csv('youtube.csv')\n",
    "df['id_no'] = df.groupby(['titulo']).ngroup()\n",
    "list(set(df['proximo_video_titulo'].unique().tolist())-set(df['titulo'].unique().tolist()))\n",
    "df = df[['id_no', 'titulo', 'proximo_video_titulo', 'visualizacoes', 'curtidas', 'canal', 'data', 'url']]\n",
    "df = df.sort_values(by=['id_no'])\n",
    "df.to_csv('youtube.csv',index=False)\n"
   ]
  },
  {
   "cell_type": "markdown",
   "metadata": {},
   "source": [
    "Então, é contado as linhas duplicadas. Uma linha duplicada significa que um mesmo caminho foi percorrido duas vezes, para cada vez que um caminho é percorrido o peso das arestas entre dois vídeos é incrementado em 1.\n",
    "E então estes dados são salvos no mesmo Dataset com as novas colunas de ID, ID do proximo nó (video) e o peso das arestas (conexão entre dois vídeos)."
   ]
  },
  {
   "cell_type": "code",
   "execution_count": 11,
   "metadata": {},
   "outputs": [],
   "source": [
    "df['peso'] = df.groupby(['titulo', 'proximo_video_titulo'])['titulo'].transform('count')\n",
    "\n",
    "df = df[['id_no', 'peso', 'titulo', 'proximo_video_titulo', 'visualizacoes', 'curtidas', 'canal', 'data', 'url']]\n",
    "df['peso'] = df['peso'].astype(int)\n",
    "df.to_csv('youtube.csv',index=False)\n"
   ]
  },
  {
   "cell_type": "markdown",
   "metadata": {},
   "source": [
    "Após a criação dos IDs únicos, cada vídeo recomendado tem seu ID unico referente aos IDs criados anteriormente, ou seja, a coluna id_proximo_no é preenchida."
   ]
  },
  {
   "cell_type": "code",
   "execution_count": 12,
   "metadata": {},
   "outputs": [],
   "source": [
    "df = pd.read_csv('youtube.csv')\n",
    "df['id_no'] = df.groupby(['titulo']).ngroup()\n",
    "\n",
    "for a in df['titulo'].unique().tolist(): # para cada titulo unico\n",
    "    # print(\"Titulo a: \", a)\n",
    "    for b in df['proximo_video_titulo'].tolist():  # para cada proximo_video_titulo da lista de titulos\n",
    "        # print(\"Proximo video b: \", b)\n",
    "        if b != '-1': # se o proximo_video_titulo for diferente de -1 (ultimo video da lista que nao possui proximo video)\n",
    "            if a == b:\n",
    "                # print(\"a == b\", a, b)\n",
    "                # adiciona o id_no do titulo na coluna id_prox_no referente ao proximo_video_titulo\n",
    "                df.loc[df['proximo_video_titulo'] == unidecode(b), 'id_prox_no'] = df.loc[df['titulo'] == unidecode(a), 'id_no'].values[0]\n",
    "        else: \n",
    "            df.loc[df['proximo_video_titulo'] == unidecode(b), 'id_prox_no'] = df.loc[df['titulo'] == unidecode(a), 'id_no'].values[0] # se o proximo_video_titulo for igual a -1, adiciona o id_no do titulo na coluna id_prox_no\n",
    "\n",
    "df = df.astype({'id_prox_no':'int'})"
   ]
  },
  {
   "cell_type": "code",
   "execution_count": 13,
   "metadata": {},
   "outputs": [
    {
     "data": {
      "text/html": [
       "<div>\n",
       "<style scoped>\n",
       "    .dataframe tbody tr th:only-of-type {\n",
       "        vertical-align: middle;\n",
       "    }\n",
       "\n",
       "    .dataframe tbody tr th {\n",
       "        vertical-align: top;\n",
       "    }\n",
       "\n",
       "    .dataframe thead th {\n",
       "        text-align: right;\n",
       "    }\n",
       "</style>\n",
       "<table border=\"1\" class=\"dataframe\">\n",
       "  <thead>\n",
       "    <tr style=\"text-align: right;\">\n",
       "      <th></th>\n",
       "      <th>id_no</th>\n",
       "      <th>id_prox_no</th>\n",
       "      <th>peso</th>\n",
       "      <th>titulo</th>\n",
       "      <th>proximo_video_titulo</th>\n",
       "      <th>visualizacoes</th>\n",
       "      <th>curtidas</th>\n",
       "      <th>canal</th>\n",
       "      <th>data</th>\n",
       "      <th>url</th>\n",
       "    </tr>\n",
       "  </thead>\n",
       "  <tbody>\n",
       "    <tr>\n",
       "      <th>0</th>\n",
       "      <td>0</td>\n",
       "      <td>1</td>\n",
       "      <td>1</td>\n",
       "      <td>A Melhor Historia Brasileira de Aviacao | EP. 1072</td>\n",
       "      <td>Boeing 777 - o aviao FAVORITO do Lito | EP. 777</td>\n",
       "      <td>366432</td>\n",
       "      <td>68000.0</td>\n",
       "      <td>Avioes e Musicas</td>\n",
       "      <td>27 de nov. de 2022</td>\n",
       "      <td>https://www.youtube.com/watch?v=A8h9ZfWaWCo</td>\n",
       "    </tr>\n",
       "    <tr>\n",
       "      <th>1</th>\n",
       "      <td>1</td>\n",
       "      <td>40</td>\n",
       "      <td>1</td>\n",
       "      <td>Boeing 777 - o aviao FAVORITO do Lito | EP. 777</td>\n",
       "      <td>Voos United 585 e UsAir 427 - Defeito FATAL | EP. 1033</td>\n",
       "      <td>2549107</td>\n",
       "      <td>103000.0</td>\n",
       "      <td>Avioes e Musicas</td>\n",
       "      <td>13 de jun. de 2021</td>\n",
       "      <td>https://www.youtube.com/watch?v=P_WRAUmsoHk</td>\n",
       "    </tr>\n",
       "    <tr>\n",
       "      <th>2</th>\n",
       "      <td>2</td>\n",
       "      <td>4</td>\n",
       "      <td>1</td>\n",
       "      <td>Bolsonaro (PL) pergunta para Felipe D'Avila (Novo) sobre governos de esquerda #DebateNaGlobo</td>\n",
       "      <td>Bolsonaro (PL) pergunta para Padre Kelmon (PTB) sobre Lei Rouanet #DebateNaGlobo</td>\n",
       "      <td>234918</td>\n",
       "      <td>4600.0</td>\n",
       "      <td>g1</td>\n",
       "      <td>30 de set. de 2022</td>\n",
       "      <td>https://www.youtube.com/watch?v=enshEm19iTI</td>\n",
       "    </tr>\n",
       "    <tr>\n",
       "      <th>3</th>\n",
       "      <td>3</td>\n",
       "      <td>25</td>\n",
       "      <td>1</td>\n",
       "      <td>Bolsonaro (PL) pergunta para Felipe D'Avila (Novo) sobre relacao com o Congresso #DebateNaGlobo</td>\n",
       "      <td>Padre Kelmon (PTB) pergunta para Ciro Gomes (PDT) sobre educacao #DebateNaGlobo</td>\n",
       "      <td>248353</td>\n",
       "      <td>3700.0</td>\n",
       "      <td>g1</td>\n",
       "      <td>30 de set. de 2022</td>\n",
       "      <td>https://www.youtube.com/watch?v=vCs_VR6NoAY</td>\n",
       "    </tr>\n",
       "    <tr>\n",
       "      <th>4</th>\n",
       "      <td>4</td>\n",
       "      <td>34</td>\n",
       "      <td>1</td>\n",
       "      <td>Bolsonaro (PL) pergunta para Padre Kelmon (PTB) sobre Lei Rouanet #DebateNaGlobo</td>\n",
       "      <td>Simone Tebet (MDB) pergunta para Soraya Thronicke (Uniao Brasil) sobre educacao #DebateNaGlobo</td>\n",
       "      <td>568522</td>\n",
       "      <td>11000.0</td>\n",
       "      <td>g1</td>\n",
       "      <td>30 de set. de 2022</td>\n",
       "      <td>https://www.youtube.com/watch?v=LIUq9sLrpfM</td>\n",
       "    </tr>\n",
       "  </tbody>\n",
       "</table>\n",
       "</div>"
      ],
      "text/plain": [
       "   id_no  id_prox_no  peso                                                                                           titulo                                                                            proximo_video_titulo  visualizacoes  curtidas             canal                data                                          url\n",
       "0  0      1           1     A Melhor Historia Brasileira de Aviacao | EP. 1072                                               Boeing 777 - o aviao FAVORITO do Lito | EP. 777                                                 366432         68000.0   Avioes e Musicas  27 de nov. de 2022  https://www.youtube.com/watch?v=A8h9ZfWaWCo\n",
       "1  1      40          1     Boeing 777 - o aviao FAVORITO do Lito | EP. 777                                                  Voos United 585 e UsAir 427 - Defeito FATAL | EP. 1033                                          2549107        103000.0  Avioes e Musicas  13 de jun. de 2021  https://www.youtube.com/watch?v=P_WRAUmsoHk\n",
       "2  2      4           1     Bolsonaro (PL) pergunta para Felipe D'Avila (Novo) sobre governos de esquerda #DebateNaGlobo     Bolsonaro (PL) pergunta para Padre Kelmon (PTB) sobre Lei Rouanet #DebateNaGlobo                234918         4600.0    g1                30 de set. de 2022  https://www.youtube.com/watch?v=enshEm19iTI\n",
       "3  3      25          1     Bolsonaro (PL) pergunta para Felipe D'Avila (Novo) sobre relacao com o Congresso #DebateNaGlobo  Padre Kelmon (PTB) pergunta para Ciro Gomes (PDT) sobre educacao #DebateNaGlobo                 248353         3700.0    g1                30 de set. de 2022  https://www.youtube.com/watch?v=vCs_VR6NoAY\n",
       "4  4      34          1     Bolsonaro (PL) pergunta para Padre Kelmon (PTB) sobre Lei Rouanet #DebateNaGlobo                 Simone Tebet (MDB) pergunta para Soraya Thronicke (Uniao Brasil) sobre educacao #DebateNaGlobo  568522         11000.0   g1                30 de set. de 2022  https://www.youtube.com/watch?v=LIUq9sLrpfM"
      ]
     },
     "execution_count": 13,
     "metadata": {},
     "output_type": "execute_result"
    }
   ],
   "source": [
    "df = df[['id_no', 'id_prox_no', 'peso', 'titulo', 'proximo_video_titulo', 'visualizacoes', 'curtidas', 'canal', 'data', 'url']]\n",
    "dfsorted = df.sort_values(by=['id_no', 'id_prox_no'])\n",
    "dfsorted.drop_duplicates(subset=['id_no', 'id_prox_no'], keep='first', inplace=True)\n",
    "dfsorted.to_csv('youtube.csv',index=False)\n",
    "dfsorted.head()"
   ]
  }
 ],
 "metadata": {
  "kernelspec": {
   "display_name": "Python 3.10.0 ('mineração': venv)",
   "language": "python",
   "name": "python3"
  },
  "language_info": {
   "codemirror_mode": {
    "name": "ipython",
    "version": 3
   },
   "file_extension": ".py",
   "mimetype": "text/x-python",
   "name": "python",
   "nbconvert_exporter": "python",
   "pygments_lexer": "ipython3",
   "version": "3.10.0"
  },
  "orig_nbformat": 4,
  "vscode": {
   "interpreter": {
    "hash": "feb523f1c362cea2558f4fa527f07a1db9902c37a27a1a1a2aaf3d70e4e10e93"
   }
  }
 },
 "nbformat": 4,
 "nbformat_minor": 2
}
