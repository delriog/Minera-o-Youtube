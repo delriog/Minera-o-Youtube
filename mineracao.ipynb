{
 "cells": [
  {
   "cell_type": "markdown",
   "metadata": {},
   "source": [
    "# Mineração dos dados\n",
    "\n"
   ]
  },
  {
   "cell_type": "markdown",
   "metadata": {},
   "source": [
    "Para a mineração dos dados foi utilizado o Selenium Web Driver, para sua utilização é necessário o download e instalação do driver de desenvolvimento do navegador utilizado (cédula 6)."
   ]
  },
  {
   "cell_type": "code",
   "execution_count": 1,
   "metadata": {},
   "outputs": [],
   "source": [
    "from selenium import webdriver\n",
    "from selenium.webdriver.common.keys import Keys\n",
    "from selenium.webdriver.support import expected_conditions as EC\n",
    "from selenium.webdriver.common.by import By\n",
    "from selenium.webdriver.support.ui import WebDriverWait\n",
    "import pandas as pd\n",
    "import time\n",
    "from unidecode import unidecode\n"
   ]
  },
  {
   "cell_type": "markdown",
   "metadata": {},
   "source": [
    "A célula abaixo inicializa o driver do selenium, que é o responsável por controlar o navegador.\n",
    "Também é definido o vídeo que será utilizado para o início da coleta de dados.\n"
   ]
  },
  {
   "cell_type": "code",
   "execution_count": 23,
   "metadata": {},
   "outputs": [
    {
     "name": "stderr",
     "output_type": "stream",
     "text": [
      "C:\\Users\\guide\\AppData\\Local\\Temp\\ipykernel_14068\\1354990030.py:1: DeprecationWarning: executable_path has been deprecated, please pass in a Service object\n",
      "  driver = webdriver.Edge('D:/TCC/mineração/webdriver/edgedriver_win64/msedgedriver.exe')\n"
     ]
    }
   ],
   "source": [
    "driver = webdriver.Edge('D:/TCC/mineração/webdriver/edgedriver_win64/msedgedriver.exe')\n",
    "driver.get('https://www.youtube.com/watch?v=J9ZT5E2qz-I')\n"
   ]
  },
  {
   "cell_type": "markdown",
   "metadata": {},
   "source": [
    "Para as cédulas a seguir, é testado o caminho da TAG HTML específica para cado dado do Youtube que será coletado, sendo eles: \n",
    "* Titulo do vídeo;\n",
    "* Número de visualizações do vídeo;\n",
    "* Próximo vídeo recomendado do Youtube;\n",
    "* Número de curtidas;\n",
    "* Data de publicação do vídeo;\n",
    "* Canal que publicou;\n",
    "* URL."
   ]
  },
  {
   "cell_type": "code",
   "execution_count": 4,
   "metadata": {},
   "outputs": [
    {
     "name": "stdout",
     "output_type": "stream",
     "text": [
      "15 Sorting Algorithms in 6 Minutes\n"
     ]
    }
   ],
   "source": [
    "titulo = WebDriverWait(driver, 10).until(EC.element_to_be_clickable((By.XPATH, '//*[@id=\"title\"]/h1/yt-formatted-string'))).text\n",
    "print(titulo)"
   ]
  },
  {
   "cell_type": "code",
   "execution_count": 6,
   "metadata": {},
   "outputs": [
    {
     "name": "stdout",
     "output_type": "stream",
     "text": [
      "20 mi de visualizações\n"
     ]
    }
   ],
   "source": [
    "visualizacoes_video = WebDriverWait(driver, 10).until(EC.element_to_be_clickable((By.XPATH, '/html/body/ytd-app/div[1]/ytd-page-manager/ytd-watch-flexy/div[5]/div[1]/div/div[2]/ytd-watch-metadata/div/div[3]/div[1]/div/div/yt-formatted-string/span[1]'))).text\n",
    "print(visualizacoes_video)"
   ]
  },
  {
   "cell_type": "code",
   "execution_count": 7,
   "metadata": {},
   "outputs": [
    {
     "name": "stdout",
     "output_type": "stream",
     "text": [
      "*SEIZURE WARNING* 50+ Sorts, Visualized - Bar Graph\n"
     ]
    }
   ],
   "source": [
    "proximo_video_titulo = WebDriverWait(driver, 10).until(EC.element_to_be_clickable((By.XPATH, '/html/body/ytd-app/div[1]/ytd-page-manager/ytd-watch-flexy/div[5]/div[2]/div/div[3]/ytd-watch-next-secondary-results-renderer/div[2]/ytd-compact-video-renderer[1]/div[1]/div/div[1]/a/h3/span'))).text\n",
    "print(proximo_video_titulo)\n",
    "proximo_video = WebDriverWait(driver, 10).until(EC.element_to_be_clickable((By.XPATH, '/html/body/ytd-app/div[1]/ytd-page-manager/ytd-watch-flexy/div[5]/div[2]/div/div[3]/ytd-watch-next-secondary-results-renderer/div[2]/ytd-compact-video-renderer[1]/div[1]/div/div[1]/a/h3/span'))).click()"
   ]
  },
  {
   "cell_type": "code",
   "execution_count": 11,
   "metadata": {},
   "outputs": [
    {
     "name": "stdout",
     "output_type": "stream",
     "text": [
      "455 mil\n"
     ]
    }
   ],
   "source": [
    "curtidas = WebDriverWait(driver, 10).until(EC.element_to_be_clickable((By.XPATH, '/html/body/ytd-app/div[1]/ytd-page-manager/ytd-watch-flexy/div[5]/div[1]/div/div[2]/ytd-watch-metadata/div/div[2]/div[2]/div/div/ytd-menu-renderer/div[1]/ytd-segmented-like-dislike-button-renderer/div[1]/ytd-toggle-button-renderer/yt-button-shape/button/div[2]'))).text\n",
    "print(curtidas)"
   ]
  },
  {
   "cell_type": "markdown",
   "metadata": {},
   "source": [
    "Através da variável de controle **repeticoes**, é possível definir quantos vídeo terão seus dados coletados. Após a coleta de todos os dados, o Selenium clica no primeiro vídeo recomendado da página atual através da função __.click()__, para que os dados possam ser coletados.\n",
    "Esse processo continuará até a quantidade de repetições definida, vale lembrar que a ordem em que os vídeos são acessados também é coletada."
   ]
  },
  {
   "cell_type": "code",
   "execution_count": null,
   "metadata": {},
   "outputs": [],
   "source": [
    "repeticoes = 1000\n",
    "titulo_video = []\n",
    "visualizacoes = []\n",
    "proximo = []\n",
    "curtidas_video = []\n",
    "canal_video = []\n",
    "data_video = []\n",
    "url_video = []\n",
    "\n",
    "for i in range(0, repeticoes):\n",
    "    titulo = WebDriverWait(driver, 10).until(EC.element_to_be_clickable((By.XPATH, '/html/body/ytd-app/div[1]/ytd-page-manager/ytd-watch-flexy/div[5]/div[1]/div/div[2]/ytd-watch-metadata/div/div[1]/h1/yt-formatted-string'))).text\n",
    "    print(\"Titulo: \", titulo, end=' - ')\n",
    "    titulo_video.append(unidecode(titulo))\n",
    "    \n",
    "    descrição = WebDriverWait(driver, 10).until(EC.element_to_be_clickable((By.XPATH, '/html/body/ytd-app/div[1]/ytd-page-manager/ytd-watch-flexy/div[5]/div[1]/div/div[2]/ytd-watch-metadata/div/div[3]/div[1]/div/ytd-text-inline-expander/tp-yt-paper-button[1]'))).click()\n",
    "\n",
    "    visualizacoes_video = WebDriverWait(driver, 10).until(EC.element_to_be_clickable((By.XPATH, '/html/body/ytd-app/div[1]/ytd-page-manager/ytd-watch-flexy/div[5]/div[1]/div/div[2]/ytd-watch-metadata/div/div[3]/div[1]/div/div/yt-formatted-string/span[1]'))).text\n",
    "    print(\"Visualizações:\", visualizacoes_video, end=' - ')\n",
    "    visualizacoes.append(visualizacoes_video)\n",
    "\n",
    "    curtidas = WebDriverWait(driver, 10).until(EC.element_to_be_clickable((By.XPATH, '/html/body/ytd-app/div[1]/ytd-page-manager/ytd-watch-flexy/div[5]/div[1]/div/div[2]/ytd-watch-metadata/div/div[2]/div[2]/div/div/ytd-menu-renderer/div[1]/ytd-segmented-like-dislike-button-renderer/div[1]/ytd-toggle-button-renderer/yt-button-shape/button/div[2]'))).text\n",
    "    print(\"Curtidas:\", curtidas, end=' - ')\n",
    "    curtidas_video.append(curtidas)\n",
    "\n",
    "    canal = WebDriverWait(driver, 10).until(EC.element_to_be_clickable((By.XPATH, '/html/body/ytd-app/div[1]/ytd-page-manager/ytd-watch-flexy/div[5]/div[1]/div/div[2]/ytd-watch-metadata/div/div[2]/div[1]/ytd-video-owner-renderer/div[1]/ytd-channel-name/div/div/yt-formatted-string/a'))).text\n",
    "    print(\"Canal:\", canal, end=' - ')\n",
    "    canal_video.append(unidecode(canal))\n",
    "\n",
    "    data = WebDriverWait(driver, 10).until(EC.element_to_be_clickable((By.XPATH, '/html/body/ytd-app/div[1]/ytd-page-manager/ytd-watch-flexy/div[5]/div[1]/div/div[2]/ytd-watch-metadata/div/div[3]/div[1]/div/div/yt-formatted-string/span[3]'))).text\n",
    "    print(\"Data:\", data)\n",
    "    data_video.append(data)\n",
    "\n",
    "    proximo_video_titulo = WebDriverWait(driver, 10).until(EC.element_to_be_clickable((By.XPATH, '/html/body/ytd-app/div[1]/ytd-page-manager/ytd-watch-flexy/div[5]/div[2]/div/div[3]/ytd-watch-next-secondary-results-renderer/div[2]/ytd-compact-video-renderer[1]/div[1]/div/div[1]/a/h3/span'))).text\n",
    "    proximo.append(unidecode(proximo_video_titulo))\n",
    "    print(\"Titulo proximo video: \", proximo_video_titulo)\n",
    "\n",
    "    url = driver.current_url\n",
    "    url_video.append(url)\n",
    "\n",
    "    proximo_video = WebDriverWait(driver, 10).until(EC.element_to_be_clickable((By.XPATH, '/html/body/ytd-app/div[1]/ytd-page-manager/ytd-watch-flexy/div[5]/div[2]/div/div[3]/ytd-watch-next-secondary-results-renderer/div[2]/ytd-compact-video-renderer[1]/div[1]/div/div[1]/a/h3/span'))).click()\n",
    "    time.sleep(1.5)"
   ]
  },
  {
   "cell_type": "markdown",
   "metadata": {},
   "source": [
    "### Criação do Dataset\n",
    "Através da operação **zip** do python, todas as informações coletadas são colocadas em uma lista."
   ]
  },
  {
   "cell_type": "code",
   "execution_count": 48,
   "metadata": {},
   "outputs": [],
   "source": [
    "dado = []\n",
    "for i, j, k, l, x, y, z in zip(titulo_video, proximo, visualizacoes, curtidas_video, canal_video, data_video, url_video):\n",
    "    dado.append([i, j, k, l, x, y, z])"
   ]
  },
  {
   "cell_type": "markdown",
   "metadata": {},
   "source": [
    "E então, através do **Pandas** é criado um DataFrame com uma coluna para cada dado. Os dados com formato string são salvos como 'str', e o último vídeo coletado não tem os dados da coluna __proximo_video_titulo__, e por isso seu valor é colocado como -1.\n",
    "E então são salvos dentro de um arquivo com extenção .CSV nomeado youtube.csv"
   ]
  },
  {
   "cell_type": "code",
   "execution_count": 68,
   "metadata": {},
   "outputs": [
    {
     "data": {
      "text/html": [
       "<div>\n",
       "<style scoped>\n",
       "    .dataframe tbody tr th:only-of-type {\n",
       "        vertical-align: middle;\n",
       "    }\n",
       "\n",
       "    .dataframe tbody tr th {\n",
       "        vertical-align: top;\n",
       "    }\n",
       "\n",
       "    .dataframe thead th {\n",
       "        text-align: right;\n",
       "    }\n",
       "</style>\n",
       "<table border=\"1\" class=\"dataframe\">\n",
       "  <thead>\n",
       "    <tr style=\"text-align: right;\">\n",
       "      <th></th>\n",
       "      <th>titulo</th>\n",
       "      <th>proximo_video_titulo</th>\n",
       "      <th>visualizacoes</th>\n",
       "      <th>curtidas</th>\n",
       "      <th>canal</th>\n",
       "      <th>data</th>\n",
       "      <th>url</th>\n",
       "    </tr>\n",
       "  </thead>\n",
       "  <tbody>\n",
       "    <tr>\n",
       "      <th>0</th>\n",
       "      <td>Bolsonaro pergunta a Ciro Gomes sobre politica...</td>\n",
       "      <td>Padre de festa junina, extrema-uncao e cateque...</td>\n",
       "      <td>2065055</td>\n",
       "      <td>36000.0</td>\n",
       "      <td>Band Jornalismo</td>\n",
       "      <td>28 de ago. de 2022</td>\n",
       "      <td>https://www.youtube.com/watch?v=J9ZT5E2qz-I</td>\n",
       "    </tr>\n",
       "    <tr>\n",
       "      <th>1</th>\n",
       "      <td>Padre de festa junina, extrema-uncao e cateque...</td>\n",
       "      <td>Padre Kelmon (PTB) pergunta para Simone Tebet ...</td>\n",
       "      <td>3374874</td>\n",
       "      <td>56000.0</td>\n",
       "      <td>Folha de S.Paulo</td>\n",
       "      <td>30 de set. de 2022</td>\n",
       "      <td>https://www.youtube.com/watch?v=mbonCT-zUKw</td>\n",
       "    </tr>\n",
       "    <tr>\n",
       "      <th>2</th>\n",
       "      <td>Padre Kelmon (PTB) pergunta para Simone Tebet ...</td>\n",
       "      <td>Padre Kelmon (PTB) pergunta para Ciro Gomes (P...</td>\n",
       "      <td>644128</td>\n",
       "      <td>10000.0</td>\n",
       "      <td>CNN Brasil</td>\n",
       "      <td>24 de set. de 2022</td>\n",
       "      <td>https://www.youtube.com/watch?v=7FsGZbuSeiY</td>\n",
       "    </tr>\n",
       "    <tr>\n",
       "      <th>3</th>\n",
       "      <td>Padre Kelmon (PTB) pergunta para Ciro Gomes (P...</td>\n",
       "      <td>Padre Kelmon e perguntado sobre a Lei da Ficha...</td>\n",
       "      <td>368223</td>\n",
       "      <td>6500.0</td>\n",
       "      <td>CNN Brasil</td>\n",
       "      <td>24 de set. de 2022</td>\n",
       "      <td>https://www.youtube.com/watch?v=Ih2rP4DWmYs</td>\n",
       "    </tr>\n",
       "    <tr>\n",
       "      <th>4</th>\n",
       "      <td>Padre Kelmon e perguntado sobre a Lei da Ficha...</td>\n",
       "      <td>Padre Kelmon, do PTB, diz que negros nao preci...</td>\n",
       "      <td>318716</td>\n",
       "      <td>13000.0</td>\n",
       "      <td>SBT News</td>\n",
       "      <td>24 de set. de 2022</td>\n",
       "      <td>https://www.youtube.com/watch?v=46HC-GVIdIA</td>\n",
       "    </tr>\n",
       "    <tr>\n",
       "      <th>...</th>\n",
       "      <td>...</td>\n",
       "      <td>...</td>\n",
       "      <td>...</td>\n",
       "      <td>...</td>\n",
       "      <td>...</td>\n",
       "      <td>...</td>\n",
       "      <td>...</td>\n",
       "    </tr>\n",
       "    <tr>\n",
       "      <th>90</th>\n",
       "      <td>Boeing 777 - o aviao FAVORITO do Lito | EP. 777</td>\n",
       "      <td>Voos United 585 e UsAir 427 - Defeito FATAL | ...</td>\n",
       "      <td>2549107</td>\n",
       "      <td>103000.0</td>\n",
       "      <td>Avioes e Musicas</td>\n",
       "      <td>13 de jun. de 2021</td>\n",
       "      <td>https://www.youtube.com/watch?v=P_WRAUmsoHk</td>\n",
       "    </tr>\n",
       "    <tr>\n",
       "      <th>91</th>\n",
       "      <td>Voos United 585 e UsAir 427 - Defeito FATAL | ...</td>\n",
       "      <td>INACREDITAVEL essa HISTORIA - Pacific Clipper ...</td>\n",
       "      <td>567205</td>\n",
       "      <td>62000.0</td>\n",
       "      <td>Avioes e Musicas</td>\n",
       "      <td>4 de set. de 2022</td>\n",
       "      <td>https://www.youtube.com/watch?v=HUpKbJ9DnzU</td>\n",
       "    </tr>\n",
       "    <tr>\n",
       "      <th>92</th>\n",
       "      <td>INACREDITAVEL essa HISTORIA - Pacific Clipper ...</td>\n",
       "      <td>Foi muito ESTRANHO o ACIDENTE do voo Saudia 16...</td>\n",
       "      <td>1677583</td>\n",
       "      <td>102000.0</td>\n",
       "      <td>Avioes e Musicas</td>\n",
       "      <td>5 de set. de 2021</td>\n",
       "      <td>https://www.youtube.com/watch?v=9U6Fd1Upn3w</td>\n",
       "    </tr>\n",
       "    <tr>\n",
       "      <th>93</th>\n",
       "      <td>Foi muito ESTRANHO o ACIDENTE do voo Saudia 16...</td>\n",
       "      <td>Tenerife, O MAIOR acidente aereo de todos os T...</td>\n",
       "      <td>3241276</td>\n",
       "      <td>204000.0</td>\n",
       "      <td>Avioes e Musicas</td>\n",
       "      <td>2 de mai. de 2021</td>\n",
       "      <td>https://www.youtube.com/watch?v=sM7five_Sqc</td>\n",
       "    </tr>\n",
       "    <tr>\n",
       "      <th>94</th>\n",
       "      <td>Tenerife, O MAIOR acidente aereo de todos os T...</td>\n",
       "      <td>-1</td>\n",
       "      <td>7172977</td>\n",
       "      <td>347000.0</td>\n",
       "      <td>Avioes e Musicas</td>\n",
       "      <td>2 de abr. de 2017</td>\n",
       "      <td>https://www.youtube.com/watch?v=t3FLv5nZtjg</td>\n",
       "    </tr>\n",
       "  </tbody>\n",
       "</table>\n",
       "<p>95 rows × 7 columns</p>\n",
       "</div>"
      ],
      "text/plain": [
       "                                               titulo  \\\n",
       "0   Bolsonaro pergunta a Ciro Gomes sobre politica...   \n",
       "1   Padre de festa junina, extrema-uncao e cateque...   \n",
       "2   Padre Kelmon (PTB) pergunta para Simone Tebet ...   \n",
       "3   Padre Kelmon (PTB) pergunta para Ciro Gomes (P...   \n",
       "4   Padre Kelmon e perguntado sobre a Lei da Ficha...   \n",
       "..                                                ...   \n",
       "90    Boeing 777 - o aviao FAVORITO do Lito | EP. 777   \n",
       "91  Voos United 585 e UsAir 427 - Defeito FATAL | ...   \n",
       "92  INACREDITAVEL essa HISTORIA - Pacific Clipper ...   \n",
       "93  Foi muito ESTRANHO o ACIDENTE do voo Saudia 16...   \n",
       "94  Tenerife, O MAIOR acidente aereo de todos os T...   \n",
       "\n",
       "                                 proximo_video_titulo  visualizacoes  \\\n",
       "0   Padre de festa junina, extrema-uncao e cateque...        2065055   \n",
       "1   Padre Kelmon (PTB) pergunta para Simone Tebet ...        3374874   \n",
       "2   Padre Kelmon (PTB) pergunta para Ciro Gomes (P...         644128   \n",
       "3   Padre Kelmon e perguntado sobre a Lei da Ficha...         368223   \n",
       "4   Padre Kelmon, do PTB, diz que negros nao preci...         318716   \n",
       "..                                                ...            ...   \n",
       "90  Voos United 585 e UsAir 427 - Defeito FATAL | ...        2549107   \n",
       "91  INACREDITAVEL essa HISTORIA - Pacific Clipper ...         567205   \n",
       "92  Foi muito ESTRANHO o ACIDENTE do voo Saudia 16...        1677583   \n",
       "93  Tenerife, O MAIOR acidente aereo de todos os T...        3241276   \n",
       "94                                                 -1        7172977   \n",
       "\n",
       "    curtidas             canal                data  \\\n",
       "0    36000.0   Band Jornalismo  28 de ago. de 2022   \n",
       "1    56000.0  Folha de S.Paulo  30 de set. de 2022   \n",
       "2    10000.0        CNN Brasil  24 de set. de 2022   \n",
       "3     6500.0        CNN Brasil  24 de set. de 2022   \n",
       "4    13000.0          SBT News  24 de set. de 2022   \n",
       "..       ...               ...                 ...   \n",
       "90  103000.0  Avioes e Musicas  13 de jun. de 2021   \n",
       "91   62000.0  Avioes e Musicas   4 de set. de 2022   \n",
       "92  102000.0  Avioes e Musicas   5 de set. de 2021   \n",
       "93  204000.0  Avioes e Musicas   2 de mai. de 2021   \n",
       "94  347000.0  Avioes e Musicas   2 de abr. de 2017   \n",
       "\n",
       "                                            url  \n",
       "0   https://www.youtube.com/watch?v=J9ZT5E2qz-I  \n",
       "1   https://www.youtube.com/watch?v=mbonCT-zUKw  \n",
       "2   https://www.youtube.com/watch?v=7FsGZbuSeiY  \n",
       "3   https://www.youtube.com/watch?v=Ih2rP4DWmYs  \n",
       "4   https://www.youtube.com/watch?v=46HC-GVIdIA  \n",
       "..                                          ...  \n",
       "90  https://www.youtube.com/watch?v=P_WRAUmsoHk  \n",
       "91  https://www.youtube.com/watch?v=HUpKbJ9DnzU  \n",
       "92  https://www.youtube.com/watch?v=9U6Fd1Upn3w  \n",
       "93  https://www.youtube.com/watch?v=sM7five_Sqc  \n",
       "94  https://www.youtube.com/watch?v=t3FLv5nZtjg  \n",
       "\n",
       "[95 rows x 7 columns]"
      ]
     },
     "execution_count": 68,
     "metadata": {},
     "output_type": "execute_result"
    }
   ],
   "source": [
    "df = pd.DataFrame(dado, columns=['titulo', 'proximo_video_titulo','visualizacoes', 'curtidas', 'canal', 'data', 'url'])\n",
    "# df.sort_values('titulo', axis=0, ascending=True, inplace=True, kind='quicksort')\n",
    "df.loc [df.index[-1], 'proximo_video_titulo'] = -1 \n",
    "df['titulo'] = df['titulo'].astype('str')\n",
    "df['proximo_video_titulo'] = df['proximo_video_titulo'].astype('str')\n",
    "df['curtidas'] = df['curtidas'].replace({'mil':'', ',':'.'}, regex=True).astype(float)\n",
    "df['curtidas'] = df.loc[df['curtidas'] >=1, 'curtidas'] * 1000\n",
    "df['visualizacoes'] = df['visualizacoes'].replace({'visualizações':'', '\\.':''}, regex=True).astype(int)\n",
    "df.to_csv('youtube.csv',index=False)\n",
    "df"
   ]
  },
  {
   "cell_type": "markdown",
   "metadata": {},
   "source": [
    "Por fim, o Web Driver é fechado"
   ]
  },
  {
   "cell_type": "code",
   "execution_count": 17,
   "metadata": {},
   "outputs": [],
   "source": [
    "driver.quit()"
   ]
  }
 ],
 "metadata": {
  "kernelspec": {
   "display_name": "Python 3.10.0 ('mineração': venv)",
   "language": "python",
   "name": "python3"
  },
  "language_info": {
   "codemirror_mode": {
    "name": "ipython",
    "version": 3
   },
   "file_extension": ".py",
   "mimetype": "text/x-python",
   "name": "python",
   "nbconvert_exporter": "python",
   "pygments_lexer": "ipython3",
   "version": "3.10.0"
  },
  "orig_nbformat": 4,
  "vscode": {
   "interpreter": {
    "hash": "feb523f1c362cea2558f4fa527f07a1db9902c37a27a1a1a2aaf3d70e4e10e93"
   }
  }
 },
 "nbformat": 4,
 "nbformat_minor": 2
}
